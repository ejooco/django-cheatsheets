{
 "cells": [
  {
   "cell_type": "markdown",
   "metadata": {},
   "source": [
    "# Django Cheat Sheet 6\n",
    "\n",
    "By ejooco\n",
    "\n",
    "## User Registration"
   ]
  },
  {
   "cell_type": "markdown",
   "metadata": {},
   "source": [
    "This is so that users can register to use the site and create material. This is different to the users within the admin page."
   ]
  },
  {
   "cell_type": "markdown",
   "metadata": {},
   "source": [
    "Start by creating a 'users' app"
   ]
  },
  {
   "cell_type": "code",
   "execution_count": null,
   "metadata": {},
   "outputs": [],
   "source": [
    "python manage.py startapp users"
   ]
  },
  {
   "cell_type": "markdown",
   "metadata": {},
   "source": [
    "Add the app to the root settings"
   ]
  },
  {
   "cell_type": "markdown",
   "metadata": {},
   "source": [
    "django_project/settings.py"
   ]
  },
  {
   "cell_type": "code",
   "execution_count": null,
   "metadata": {},
   "outputs": [],
   "source": [
    "INSTALLED_APPS = [\n",
    "    'users.apps.UsersConfig',\n",
    "    'blog.apps.BlogConfig',\n",
    "    'django.contrib.admin',\n",
    "    'django.contrib.auth',\n",
    "    'django.contrib.contenttypes',\n",
    "    'django.contrib.sessions',\n",
    "    'django.contrib.messages',\n",
    "    'django.contrib.staticfiles',\n",
    "]"
   ]
  },
  {
   "cell_type": "markdown",
   "metadata": {},
   "source": [
    "Create a register view"
   ]
  },
  {
   "cell_type": "markdown",
   "metadata": {},
   "source": [
    "users/views.py"
   ]
  },
  {
   "cell_type": "code",
   "execution_count": null,
   "metadata": {},
   "outputs": [],
   "source": [
    "from django.shortcuts import render\n",
    "from django.contrib.auth.forms import UserCreationForm\n",
    "\n",
    "def register(request):\n",
    "    form = UserCreationForm()\n",
    "    return render(request, 'users/register.html', {'form': form})"
   ]
  },
  {
   "cell_type": "markdown",
   "metadata": {},
   "source": [
    "Create users/templates/users/register.html"
   ]
  },
  {
   "cell_type": "code",
   "execution_count": null,
   "metadata": {},
   "outputs": [],
   "source": [
    "{% extends \"blog/base.html\" %}\n",
    "{% block content %}\n",
    "        <div class=\"content-section\">\n",
    "            <form method=\"POST\">\n",
    "                {% csrf_token %}\n",
    "                <fieldset class=\"form-group\">\n",
    "                    <legend class=\"border-bottom mb-4\">Join Today</legend>\n",
    "                    {{ form.as_p }}\n",
    "                </fieldset>\n",
    "                <div class=\"form-group\">\n",
    "                    <button class=\"btn btn-outline-info\" type=\"submit\">Sign Up</button>\n",
    "                </div>\n",
    "            </form>\n",
    "            <div class=\"border-top pt-3\">\n",
    "                <small class=\"text-muted\">\n",
    "                    Already Have An Account? <a class=\"ml-2\" href=\"#\">Sign In</a>\n",
    "                </small>\n",
    "            </div>\n",
    "        </div>\n",
    "{% endblock content %}"
   ]
  },
  {
   "cell_type": "markdown",
   "metadata": {},
   "source": [
    "## Create url pattern to navigate to this page"
   ]
  },
  {
   "cell_type": "markdown",
   "metadata": {},
   "source": [
    "We don't have to create a users/urls.py. Instead we can just import the users/views.py to django_project/urls.py"
   ]
  },
  {
   "cell_type": "markdown",
   "metadata": {},
   "source": [
    "django_project/urls.py"
   ]
  },
  {
   "cell_type": "markdown",
   "metadata": {},
   "source": [
    "from django.contrib import admin\n",
    "from django.urls import path, include\n",
    "from users import views as user_views\n",
    "\n",
    "urlpatterns = [\n",
    "    path('admin/', admin.site.urls),\n",
    "    path('register/', user_views.register, name='register'),\n",
    "    path('', include('blog.urls')),\n",
    "]"
   ]
  },
  {
   "cell_type": "markdown",
   "metadata": {},
   "source": [
    "## Send the form data somewhere"
   ]
  },
  {
   "cell_type": "markdown",
   "metadata": {},
   "source": [
    "users/views.py"
   ]
  },
  {
   "cell_type": "code",
   "execution_count": null,
   "metadata": {},
   "outputs": [],
   "source": [
    "from django.shortcuts import render, redirect\n",
    "from django.contrib.auth.forms import UserCreationForm\n",
    "from django.contrib import messages\n",
    "\n",
    "def register(request):\n",
    "    if request.method == 'POST':\n",
    "        form = UserCreationForm(request.POST)\n",
    "        if form.is_valid():\n",
    "            form.save()\n",
    "            username = form.cleaned_data.get('username')\n",
    "            messages.success(request, f'Account created for {username}')\n",
    "            return redirect('blog-home')\n",
    "    else:\n",
    "        form = UserCreationForm()\n",
    "    return render(request, 'users/register.html', {'form': form})"
   ]
  },
  {
   "cell_type": "markdown",
   "metadata": {},
   "source": [
    "## Add flashed messages to blog/templates/blog/base.html\n",
    "### to make sure all messages work on all pages"
   ]
  },
  {
   "cell_type": "markdown",
   "metadata": {},
   "source": [
    "blog/templates/blog/base.html"
   ]
  },
  {
   "cell_type": "markdown",
   "metadata": {},
   "source": [
    "Add the following above the {% block content %}"
   ]
  },
  {
   "cell_type": "code",
   "execution_count": null,
   "metadata": {},
   "outputs": [],
   "source": [
    "    <div class=\"col-md-8\">\n",
    "        {% if messages %}\n",
    "            {% for message in messages %}\n",
    "                <div class=\"alert alert-{{ message.tags }}\">\n",
    "                    {{ message }}\n",
    "                </div>\n",
    "            {% endfor %}\n",
    "        {% endif %}\n",
    "      {% block content %}{% endblock %}\n",
    "    </div>"
   ]
  },
  {
   "cell_type": "markdown",
   "metadata": {},
   "source": [
    "## Personalize the registration form"
   ]
  },
  {
   "cell_type": "markdown",
   "metadata": {},
   "source": [
    "create users/forms.py"
   ]
  },
  {
   "cell_type": "code",
   "execution_count": null,
   "metadata": {},
   "outputs": [],
   "source": [
    "from django import forms\n",
    "from django.contrib.auth.models import User\n",
    "from django.contrib.auth.forms import UserCreationForm\n",
    "\n",
    "class UserRegisterForm(UserCreationForm):\n",
    "    email = forms.EmailField()\n",
    "\n",
    "    class Meta:\n",
    "        model = User\n",
    "        fields = ['username', 'email', 'password1', 'password2']"
   ]
  },
  {
   "cell_type": "markdown",
   "metadata": {},
   "source": [
    "### Add new form to views.py"
   ]
  },
  {
   "cell_type": "markdown",
   "metadata": {},
   "source": [
    "Replace instances of UserCreationForm with our new UserRegisterForm"
   ]
  },
  {
   "cell_type": "markdown",
   "metadata": {},
   "source": [
    "users/views.py"
   ]
  },
  {
   "cell_type": "code",
   "execution_count": null,
   "metadata": {},
   "outputs": [],
   "source": [
    "from django.shortcuts import render, redirect\n",
    "from django.contrib import messages\n",
    "from .forms import UserRegisterForm\n",
    "\n",
    "def register(request):\n",
    "    if request.method == 'POST':\n",
    "        form = UserRegisterForm(request.POST)\n",
    "        if form.is_valid():\n",
    "            form.save()\n",
    "            username = form.cleaned_data.get('username')\n",
    "            messages.success(request, f'Account created for {username}')\n",
    "            return redirect('blog-home')\n",
    "    else:\n",
    "        form = UserRegisterForm()\n",
    "    return render(request, 'users/register.html', {'form': form})"
   ]
  },
  {
   "cell_type": "markdown",
   "metadata": {},
   "source": [
    "## Adjust the styling"
   ]
  },
  {
   "cell_type": "markdown",
   "metadata": {},
   "source": [
    "Install crispy forms"
   ]
  },
  {
   "cell_type": "code",
   "execution_count": null,
   "metadata": {},
   "outputs": [],
   "source": [
    "pip install django-crispy-forms"
   ]
  },
  {
   "cell_type": "markdown",
   "metadata": {},
   "source": [
    "django_project/settings.py"
   ]
  },
  {
   "cell_type": "code",
   "execution_count": null,
   "metadata": {},
   "outputs": [],
   "source": [
    "INSTALLED_APPS = [\n",
    "    'users.apps.UsersConfig',\n",
    "    'crispy_forms',\n",
    "    'blog.apps.BlogConfig',"
   ]
  },
  {
   "cell_type": "markdown",
   "metadata": {},
   "source": [
    "Add the CRISPY_TEMPLATE_PACK line after STATIC_URL"
   ]
  },
  {
   "cell_type": "code",
   "execution_count": null,
   "metadata": {},
   "outputs": [],
   "source": [
    "STATIC_URL = '/static/'\n",
    "\n",
    "CRISPY_TEMPLATE_PACK = 'bootstrap4'"
   ]
  },
  {
   "cell_type": "markdown",
   "metadata": {},
   "source": [
    "users/templates/users/register.html"
   ]
  },
  {
   "cell_type": "markdown",
   "metadata": {},
   "source": [
    "Load the crispy forms under the extends tag at the top and add the crispy tag after the form codeblock"
   ]
  },
  {
   "cell_type": "code",
   "execution_count": null,
   "metadata": {},
   "outputs": [],
   "source": [
    "{% extends \"blog/base.html\" %}\n",
    "{% load crispy_forms_tags %}\n",
    "{% block content %}\n",
    "        <div class=\"content-section\">\n",
    "            <form method=\"POST\">\n",
    "                {% csrf_token %}\n",
    "                <fieldset class=\"form-group\">\n",
    "                    <legend class=\"border-bottom mb-4\">Join Today</legend>\n",
    "                    {{ form|crispy }}\n",
    "                </fieldset>\n",
    "                <div class=\"form-group\">\n",
    "                    <button class=\"btn btn-outline-info\" type=\"submit\">Sign Up</button>\n",
    "                </div>\n",
    "            </form>\n",
    "            <div class=\"border-top pt-3\">\n",
    "                <small class=\"text-muted\">\n",
    "                    Already Have An Account? <a class=\"ml-2\" href=\"#\">Sign In</a>\n",
    "                </small>\n",
    "            </div>\n",
    "        </div>\n",
    "{% endblock content %}"
   ]
  },
  {
   "cell_type": "code",
   "execution_count": null,
   "metadata": {},
   "outputs": [],
   "source": []
  },
  {
   "cell_type": "code",
   "execution_count": null,
   "metadata": {},
   "outputs": [],
   "source": []
  },
  {
   "cell_type": "code",
   "execution_count": null,
   "metadata": {},
   "outputs": [],
   "source": []
  },
  {
   "cell_type": "code",
   "execution_count": null,
   "metadata": {},
   "outputs": [],
   "source": []
  },
  {
   "cell_type": "code",
   "execution_count": null,
   "metadata": {},
   "outputs": [],
   "source": []
  }
 ],
 "metadata": {
  "kernelspec": {
   "display_name": "Python 3",
   "language": "python",
   "name": "python3"
  },
  "language_info": {
   "codemirror_mode": {
    "name": "ipython",
    "version": 3
   },
   "file_extension": ".py",
   "mimetype": "text/x-python",
   "name": "python",
   "nbconvert_exporter": "python",
   "pygments_lexer": "ipython3",
   "version": "3.7.6"
  }
 },
 "nbformat": 4,
 "nbformat_minor": 4
}
