{
 "cells": [
  {
   "cell_type": "markdown",
   "metadata": {},
   "source": [
    "# Django Cheat Sheet 2\n",
    "by ejooco\n",
    "https://www.youtube.com/watch?v=qDwdMDQ8oX4&list=PL-osiE80TeTtoQCKZ03TU5fNfx2UY6U4p&index=3\n",
    "Explanations and Credit go to Corey Schafer's youtube page\n",
    "\n",
    "## Templates"
   ]
  },
  {
   "cell_type": "markdown",
   "metadata": {},
   "source": [
    "### Create Templates directory within the app"
   ]
  },
  {
   "cell_type": "markdown",
   "metadata": {},
   "source": [
    "Create a templates directory within the blog application"
   ]
  },
  {
   "cell_type": "markdown",
   "metadata": {},
   "source": [
    "blog/templates/"
   ]
  },
  {
   "cell_type": "markdown",
   "metadata": {},
   "source": [
    "Now create another directory within the templates directory called 'blog'. This seems a bit silly but it's how Django works"
   ]
  },
  {
   "cell_type": "markdown",
   "metadata": {},
   "source": [
    "blog/templates/blog/"
   ]
  },
  {
   "cell_type": "markdown",
   "metadata": {},
   "source": [
    "Create home.html and about.html within the blog/templates/blog/ folder"
   ]
  },
  {
   "cell_type": "code",
   "execution_count": 11,
   "metadata": {},
   "outputs": [
    {
     "name": "stdout",
     "output_type": "stream",
     "text": [
      "\u001b[01;34m.\u001b[00m\r\n",
      "├── \u001b[01;34mblog\u001b[00m\r\n",
      "│   ├── admin.py\r\n",
      "│   ├── apps.py\r\n",
      "│   ├── __init__.py\r\n",
      "│   ├── \u001b[01;34mmigrations\u001b[00m\r\n",
      "│   │   └── __init__.py\r\n",
      "│   ├── models.py\r\n",
      "│   ├── \u001b[01;34m__pycache__\u001b[00m\r\n",
      "│   │   ├── __init__.cpython-37.pyc\r\n",
      "│   │   ├── urls.cpython-37.pyc\r\n",
      "│   │   └── views.cpython-37.pyc\r\n",
      "│   ├── \u001b[01;34mtemplates\u001b[00m\r\n",
      "│   │   └── \u001b[01;34mblog\u001b[00m\r\n",
      "│   │       ├── about.html\r\n",
      "│   │       └── home.html\r\n",
      "│   ├── tests.py\r\n",
      "│   ├── urls.py\r\n",
      "│   └── views.py\r\n",
      "├── db.sqlite3\r\n",
      "├── \u001b[01;34mdjango_project\u001b[00m\r\n",
      "│   ├── asgi.py\r\n",
      "│   ├── __init__.py\r\n",
      "│   ├── \u001b[01;34m__pycache__\u001b[00m\r\n",
      "│   │   ├── __init__.cpython-37.pyc\r\n",
      "│   │   ├── settings.cpython-37.pyc\r\n",
      "│   │   ├── urls.cpython-37.pyc\r\n",
      "│   │   └── wsgi.cpython-37.pyc\r\n",
      "│   ├── settings.py\r\n",
      "│   ├── urls.py\r\n",
      "│   └── wsgi.py\r\n",
      "└── \u001b[01;32mmanage.py\u001b[00m\r\n",
      "\r\n",
      "7 directories, 24 files\r\n"
     ]
    }
   ],
   "source": [
    "!tree"
   ]
  },
  {
   "cell_type": "markdown",
   "metadata": {},
   "source": [
    "### Add blog application to list of installed apps"
   ]
  },
  {
   "cell_type": "markdown",
   "metadata": {},
   "source": [
    "This is so that Django knows to look here for the templates directory"
   ]
  },
  {
   "cell_type": "markdown",
   "metadata": {},
   "source": [
    "Add app configuration to projects settings.py module"
   ]
  },
  {
   "cell_type": "markdown",
   "metadata": {},
   "source": [
    "blog/apps.py"
   ]
  },
  {
   "cell_type": "code",
   "execution_count": null,
   "metadata": {},
   "outputs": [],
   "source": [
    "from django.apps import AppConfig\n",
    "\n",
    "\n",
    "class BlogConfig(AppConfig):\n",
    "    name = 'blog'"
   ]
  },
  {
   "cell_type": "markdown",
   "metadata": {},
   "source": [
    "copy BlogConfig name from apps.py file (shown above) and add it to settings.py INSTALLED_APPS"
   ]
  },
  {
   "cell_type": "markdown",
   "metadata": {},
   "source": [
    "django_project/settings.py"
   ]
  },
  {
   "cell_type": "code",
   "execution_count": null,
   "metadata": {},
   "outputs": [],
   "source": [
    "INSTALLED_APPS = [\n",
    "    'blog.apps.BlogConfig',\n",
    "    'django.contrib.admin',\n",
    "    'django.contrib.auth',\n",
    "    'django.contrib.contenttypes',\n",
    "    'django.contrib.sessions',\n",
    "    'django.contrib.messages',\n",
    "    'django.contrib.staticfiles',\n",
    "]"
   ]
  },
  {
   "cell_type": "markdown",
   "metadata": {},
   "source": [
    "### Adjust functions within blog/views.py to render templates instead of HttpResponse functions"
   ]
  },
  {
   "cell_type": "markdown",
   "metadata": {},
   "source": [
    "blog/views.py"
   ]
  },
  {
   "cell_type": "code",
   "execution_count": null,
   "metadata": {},
   "outputs": [],
   "source": [
    "from django.shortcuts import render\n",
    "\n",
    "def home(request):\n",
    "    return render(request, 'blog/home.html')"
   ]
  },
  {
   "cell_type": "markdown",
   "metadata": {},
   "source": [
    "blog/templates/blog/home.html"
   ]
  },
  {
   "cell_type": "code",
   "execution_count": null,
   "metadata": {},
   "outputs": [],
   "source": [
    "<!DOCTYPE html>\n",
    "<html>\n",
    "    <head>\n",
    "        <title></title>\n",
    "    </head>\n",
    "    <body>\n",
    "        <h1>Blog home!</h1>\n",
    "    </body>\n",
    "</html>"
   ]
  },
  {
   "cell_type": "code",
   "execution_count": null,
   "metadata": {},
   "outputs": [],
   "source": []
  },
  {
   "cell_type": "code",
   "execution_count": null,
   "metadata": {},
   "outputs": [],
   "source": []
  },
  {
   "cell_type": "markdown",
   "metadata": {},
   "source": [
    "## Create data for the templates to process. Move away from static pages"
   ]
  },
  {
   "cell_type": "markdown",
   "metadata": {},
   "source": [
    "blog/views.py"
   ]
  },
  {
   "cell_type": "markdown",
   "metadata": {},
   "source": [
    "Add some fake data"
   ]
  },
  {
   "cell_type": "code",
   "execution_count": null,
   "metadata": {},
   "outputs": [],
   "source": [
    "posts = [\n",
    "    {\n",
    "        'author': 'ejooco',\n",
    "        'title': 'Blog Post 1',\n",
    "        'content': 'First Post content',\n",
    "        'date_posted': ' 09 July 2020'\n",
    "    },\n",
    "    {\n",
    "        'author': 'bear the dog',\n",
    "        'title': 'favourite kibble',\n",
    "        'content': 'dogs rule',\n",
    "        'date_posted': ' 09 July 2020'\n",
    "    }\n",
    "]"
   ]
  },
  {
   "cell_type": "markdown",
   "metadata": {},
   "source": [
    "Pass the data into the template by adjusting the home() function"
   ]
  },
  {
   "cell_type": "code",
   "execution_count": null,
   "metadata": {},
   "outputs": [],
   "source": [
    "def home(request):\n",
    "    context = {\n",
    "        'posts': posts\n",
    "    }\n",
    "    return render(request, 'blog/home.html', context)"
   ]
  },
  {
   "cell_type": "markdown",
   "metadata": {},
   "source": [
    "blog/templates/blog/home.html"
   ]
  },
  {
   "cell_type": "code",
   "execution_count": null,
   "metadata": {},
   "outputs": [],
   "source": [
    "<!DOCTYPE html>\n",
    "<html>\n",
    "    <head>\n",
    "        <title></title>\n",
    "    </head>\n",
    "    <body>\n",
    "        {% for post in posts %}\n",
    "            <h1>{{ post.title }}</h1>\n",
    "            <p>By {{ post.author }}, {{ post.date_posted }}</p>\n",
    "            <p>{{ post.content }}</p>\n",
    "        {% endfor %}\n",
    "    </body>\n",
    "</html>"
   ]
  },
  {
   "cell_type": "markdown",
   "metadata": {},
   "source": [
    "## Template Inheritance"
   ]
  },
  {
   "cell_type": "markdown",
   "metadata": {},
   "source": [
    "Create base.html inside of blog/templates/blog/"
   ]
  },
  {
   "cell_type": "markdown",
   "metadata": {},
   "source": [
    "/blog/templates/blog/base.html"
   ]
  },
  {
   "cell_type": "code",
   "execution_count": null,
   "metadata": {},
   "outputs": [],
   "source": [
    "<!DOCTYPE html>\n",
    "<html>\n",
    "<head>\n",
    "    {% if title %}\n",
    "        <title>Django Blog - {{ title }}</title>\n",
    "    {% else %}\n",
    "        <title>Django Blog</title>\n",
    "    {% endif %}\n",
    "</head>\n",
    "<body>\n",
    "    {% block content %}{% endblock %}\n",
    "</body>\n",
    "</html>"
   ]
  },
  {
   "cell_type": "markdown",
   "metadata": {},
   "source": [
    "/blog/templates/blog/home.html"
   ]
  },
  {
   "cell_type": "code",
   "execution_count": null,
   "metadata": {},
   "outputs": [],
   "source": [
    "{% extends \"blog/base.html\" %}\n",
    "{% block content %}\n",
    "        {% for post in posts %}\n",
    "            <h1>{{ post.title }}</h1>\n",
    "            <p>By {{ post.author }}, {{ post.date_posted }}</p>\n",
    "            <p>{{ post.content }}</p>\n",
    "        {% endfor %}\n",
    "{% endblock content %}"
   ]
  },
  {
   "cell_type": "markdown",
   "metadata": {},
   "source": [
    "### Self updating title"
   ]
  },
  {
   "cell_type": "markdown",
   "metadata": {},
   "source": [
    "Make another html file withing blog/templates/blog/"
   ]
  },
  {
   "cell_type": "markdown",
   "metadata": {},
   "source": [
    "/blog/templates/blog/about.html"
   ]
  },
  {
   "cell_type": "code",
   "execution_count": null,
   "metadata": {},
   "outputs": [],
   "source": [
    "{% extends \"blog/base.html\" %}\n",
    "{% block content %}\n",
    "        <h1>About Page</h1>\n",
    "{% endblock content %}"
   ]
  },
  {
   "cell_type": "markdown",
   "metadata": {},
   "source": [
    "blog/views.py"
   ]
  },
  {
   "cell_type": "code",
   "execution_count": null,
   "metadata": {},
   "outputs": [],
   "source": [
    "def about(request):\n",
    "    return render(request, 'blog/about.html', {'title': 'About'})"
   ]
  },
  {
   "cell_type": "markdown",
   "metadata": {},
   "source": [
    "Here we pass in a dictionary as the third parameter. This is used by the base.html code to decide what to render as the title."
   ]
  },
  {
   "cell_type": "markdown",
   "metadata": {},
   "source": [
    "As seen below"
   ]
  },
  {
   "cell_type": "markdown",
   "metadata": {},
   "source": [
    "/blog/templates/blog/base.html"
   ]
  },
  {
   "cell_type": "code",
   "execution_count": null,
   "metadata": {},
   "outputs": [],
   "source": [
    "<head>\n",
    "    {% if title %}\n",
    "        <title>Django Blog - {{ title }}</title>\n",
    "    {% else %}\n",
    "        <title>Django Blog</title>\n",
    "    {% endif %}\n",
    "</head>"
   ]
  },
  {
   "cell_type": "markdown",
   "metadata": {},
   "source": [
    "# Add Bootstrap\n",
    "https://getbootstrap.com/docs/4.5/getting-started/introduction/"
   ]
  },
  {
   "cell_type": "markdown",
   "metadata": {},
   "source": [
    "Add bootsrap requirements to blog/templates/blog/base.html and wrap block content in a div with class container"
   ]
  },
  {
   "cell_type": "markdown",
   "metadata": {},
   "source": [
    "blog/templates/blog/base.html"
   ]
  },
  {
   "cell_type": "code",
   "execution_count": null,
   "metadata": {},
   "outputs": [],
   "source": [
    "<!DOCTYPE html>\n",
    "<html>\n",
    "<head>\n",
    "    <!-- Required meta tags -->\n",
    "    <meta charset=\"utf-8\">\n",
    "    <meta name=\"viewport\" content=\"width=device-width, initial-scale=1, shrink-to-fit=no\">\n",
    "\n",
    "    <!-- Bootstrap CSS -->\n",
    "    <link rel=\"stylesheet\" href=\"https://stackpath.bootstrapcdn.com/bootstrap/4.5.0/css/bootstrap.min.css\" integrity=\"sha384-9aIt2nRpC12Uk9gS9baDl411NQApFmC26EwAOH8WgZl5MYYxFfc+NcPb1dKGj7Sk\" crossorigin=\"anonymous\">\n",
    "\n",
    "    {% if title %}\n",
    "        <title>Django Blog - {{ title }}</title>\n",
    "    {% else %}\n",
    "        <title>Django Blog</title>\n",
    "    {% endif %}\n",
    "</head>\n",
    "<body>\n",
    "    <div class=\"container\">\n",
    "        {% block content %}{% endblock %}\n",
    "    </div>\n",
    "\n",
    "<!-- Optional JavaScript -->\n",
    "    <!-- jQuery first, then Popper.js, then Bootstrap JS -->\n",
    "    <script src=\"https://code.jquery.com/jquery-3.5.1.slim.min.js\" integrity=\"sha384-DfXdz2htPH0lsSSs5nCTpuj/zy4C+OGpamoFVy38MVBnE+IbbVYUew+OrCXaRkfj\" crossorigin=\"anonymous\"></script>\n",
    "    <script src=\"https://cdn.jsdelivr.net/npm/popper.js@1.16.0/dist/umd/popper.min.js\" integrity=\"sha384-Q6E9RHvbIyZFJoft+2mJbHaEWldlvI9IOYy5n3zV9zzTtmI3UksdQRVvoxMfooAo\" crossorigin=\"anonymous\"></script>\n",
    "    <script src=\"https://stackpath.bootstrapcdn.com/bootstrap/4.5.0/js/bootstrap.min.js\" integrity=\"sha384-OgVRvuATP1z7JjHLkuOU7Xw704+h835Lr+6QL9UvYjZE3Ipu6Tp75j7Bh/kR0JKI\" crossorigin=\"anonymous\"></script>\n",
    "</body>\n",
    "</html>"
   ]
  },
  {
   "cell_type": "markdown",
   "metadata": {},
   "source": [
    "## Navigation and Sidebar snippets"
   ]
  },
  {
   "cell_type": "markdown",
   "metadata": {},
   "source": [
    "https://github.com/CoreyMSchafer/code_snippets/blob/master/Django_Blog/snippets/navigation.html"
   ]
  },
  {
   "cell_type": "markdown",
   "metadata": {},
   "source": [
    "https://github.com/CoreyMSchafer/code_snippets/blob/master/Django_Blog/snippets/main.html"
   ]
  },
  {
   "cell_type": "markdown",
   "metadata": {},
   "source": [
    "Add above code snippets to blog/templates/blog/base.html"
   ]
  },
  {
   "cell_type": "markdown",
   "metadata": {},
   "source": [
    "blog/templates/blog/base.html"
   ]
  },
  {
   "cell_type": "markdown",
   "metadata": {},
   "source": [
    "## Add links to base.html"
   ]
  },
  {
   "cell_type": "code",
   "execution_count": null,
   "metadata": {},
   "outputs": [],
   "source": [
    "<a class=\"nav-item nav-link\" href=\"{% url 'blog-home' %}\">Home</a>"
   ]
  },
  {
   "cell_type": "markdown",
   "metadata": {},
   "source": [
    "This will link the Home button in the navbar to:"
   ]
  },
  {
   "cell_type": "code",
   "execution_count": null,
   "metadata": {},
   "outputs": [],
   "source": [
    "# blog/urls.py\n",
    "urlpatterns = [\n",
    "    path('', views.home, name='blog-home'),\n",
    "    path('about/', views.about, name='blog-about'),\n",
    "]"
   ]
  },
  {
   "cell_type": "code",
   "execution_count": null,
   "metadata": {},
   "outputs": [],
   "source": []
  }
 ],
 "metadata": {
  "kernelspec": {
   "display_name": "Python 3",
   "language": "python",
   "name": "python3"
  },
  "language_info": {
   "codemirror_mode": {
    "name": "ipython",
    "version": 3
   },
   "file_extension": ".py",
   "mimetype": "text/x-python",
   "name": "python",
   "nbconvert_exporter": "python",
   "pygments_lexer": "ipython3",
   "version": "3.7.6"
  }
 },
 "nbformat": 4,
 "nbformat_minor": 4
}
