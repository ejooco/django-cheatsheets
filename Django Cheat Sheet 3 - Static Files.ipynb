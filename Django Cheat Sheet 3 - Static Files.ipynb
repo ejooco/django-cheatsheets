{
 "cells": [
  {
   "cell_type": "markdown",
   "metadata": {},
   "source": [
    "# Django Cheat Sheet 3\n",
    "By ejooco\n",
    "## Static Files"
   ]
  },
  {
   "cell_type": "markdown",
   "metadata": {},
   "source": [
    "Create static folder within the main directory of the blog app. Create another folder within that called blog"
   ]
  },
  {
   "cell_type": "markdown",
   "metadata": {},
   "source": [
    "We are creating blog/static/blog/"
   ]
  },
  {
   "cell_type": "code",
   "execution_count": 10,
   "metadata": {},
   "outputs": [
    {
     "name": "stdout",
     "output_type": "stream",
     "text": [
      "\u001b[01;34m.\u001b[00m\r\n",
      "├── \u001b[01;34mblog\u001b[00m\r\n",
      "│   ├── admin.py\r\n",
      "│   ├── apps.py\r\n",
      "│   ├── __init__.py\r\n",
      "│   ├── \u001b[01;34mmigrations\u001b[00m\r\n",
      "│   │   ├── __init__.py\r\n",
      "│   │   └── \u001b[01;34m__pycache__\u001b[00m\r\n",
      "│   │       └── __init__.cpython-37.pyc\r\n",
      "│   ├── models.py\r\n",
      "│   ├── \u001b[01;34m__pycache__\u001b[00m\r\n",
      "│   │   ├── admin.cpython-37.pyc\r\n",
      "│   │   ├── apps.cpython-37.pyc\r\n",
      "│   │   ├── __init__.cpython-37.pyc\r\n",
      "│   │   ├── models.cpython-37.pyc\r\n",
      "│   │   ├── urls.cpython-37.pyc\r\n",
      "│   │   └── views.cpython-37.pyc\r\n",
      "│   ├── \u001b[01;34mstatic\u001b[00m\r\n",
      "│   │   └── \u001b[01;34mblog\u001b[00m\r\n",
      "│   ├── \u001b[01;34mtemplates\u001b[00m\r\n",
      "│   │   └── \u001b[01;34mblog\u001b[00m\r\n",
      "│   │       ├── about.html\r\n",
      "│   │       ├── base.html\r\n",
      "│   │       └── home.html\r\n",
      "│   ├── tests.py\r\n",
      "│   ├── urls.py\r\n",
      "│   └── views.py\r\n",
      "├── db.sqlite3\r\n",
      "├── \u001b[01;34mdjango_project\u001b[00m\r\n",
      "│   ├── asgi.py\r\n",
      "│   ├── __init__.py\r\n",
      "│   ├── \u001b[01;34m__pycache__\u001b[00m\r\n",
      "│   │   ├── __init__.cpython-37.pyc\r\n",
      "│   │   ├── settings.cpython-37.pyc\r\n",
      "│   │   ├── urls.cpython-37.pyc\r\n",
      "│   │   └── wsgi.cpython-37.pyc\r\n",
      "│   ├── settings.py\r\n",
      "│   ├── urls.py\r\n",
      "│   └── wsgi.py\r\n",
      "└── \u001b[01;32mmanage.py\u001b[00m\r\n",
      "\r\n",
      "10 directories, 29 files\r\n"
     ]
    }
   ],
   "source": [
    "!tree"
   ]
  },
  {
   "cell_type": "markdown",
   "metadata": {},
   "source": [
    "## CSS"
   ]
  },
  {
   "cell_type": "markdown",
   "metadata": {},
   "source": [
    "Create blog/static/blog/main.css"
   ]
  },
  {
   "cell_type": "markdown",
   "metadata": {},
   "source": [
    "Add snippet to main.css"
   ]
  },
  {
   "cell_type": "markdown",
   "metadata": {},
   "source": [
    "https://github.com/CoreyMSchafer/code_snippets/blob/master/Django_Blog/snippets/main.css"
   ]
  },
  {
   "cell_type": "markdown",
   "metadata": {},
   "source": [
    "Link blog/static/main.css to blog/templates/blog/base.html"
   ]
  },
  {
   "cell_type": "markdown",
   "metadata": {},
   "source": [
    "blog/templates/blog/base.html"
   ]
  },
  {
   "cell_type": "code",
   "execution_count": null,
   "metadata": {},
   "outputs": [],
   "source": [
    "# Add the load static line to the top of the file\n",
    "{% load static %}\n",
    "<!DOCTYPE html>"
   ]
  },
  {
   "cell_type": "code",
   "execution_count": null,
   "metadata": {},
   "outputs": [],
   "source": [
    " <!-- Bootstrap CSS -->\n",
    "    <link rel=\"stylesheet\" href=\"https://stackpath.bootstrapcdn.com/bootstrap/4.5.0/css/bootstrap.min.css\" integrity=\"sha384-9aIt2nRpC12Uk9gS9baDl411NQApFmC26EwAOH8WgZl5MYYxFfc+NcPb1dKGj7Sk\" crossorigin=\"anonymous\">\n",
    "    <link rel=\"stylesheet\" type=\"text/css\" href=\"{% static 'blog/main.css' %}\">\n",
    "    #Add the bottom link line to link the stylesheet"
   ]
  }
 ],
 "metadata": {
  "kernelspec": {
   "display_name": "Python 3",
   "language": "python",
   "name": "python3"
  },
  "language_info": {
   "codemirror_mode": {
    "name": "ipython",
    "version": 3
   },
   "file_extension": ".py",
   "mimetype": "text/x-python",
   "name": "python",
   "nbconvert_exporter": "python",
   "pygments_lexer": "ipython3",
   "version": "3.7.6"
  }
 },
 "nbformat": 4,
 "nbformat_minor": 4
}
