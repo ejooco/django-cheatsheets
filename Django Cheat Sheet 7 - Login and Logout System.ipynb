{
 "cells": [
  {
   "cell_type": "markdown",
   "metadata": {},
   "source": [
    "# Django Cheat Sheet 7 - Login and Logout System\n",
    "By ejooco"
   ]
  },
  {
   "cell_type": "markdown",
   "metadata": {},
   "source": [
    "## Create default login/logout views"
   ]
  },
  {
   "cell_type": "markdown",
   "metadata": {},
   "source": [
    "django_project/urls.py"
   ]
  },
  {
   "cell_type": "code",
   "execution_count": null,
   "metadata": {},
   "outputs": [],
   "source": [
    "from django.contrib import admin\n",
    "from django.contrib.auth import views as auth_views\n",
    "from django.urls import path, include\n",
    "from users import views as user_views\n",
    "\n",
    "urlpatterns = [\n",
    "    path('admin/', admin.site.urls),\n",
    "    path('register/', user_views.register, name='register'),\n",
    "    path('login/', auth_views.LoginView.as_view(template_name='users/login.html'), name='login'),\n",
    "    path('logout/', auth_views.LogoutView.as_view(template_name='users/logout.html'), name='logout'),\n",
    "    path('', include('blog.urls')),\n",
    "]"
   ]
  },
  {
   "cell_type": "markdown",
   "metadata": {},
   "source": [
    "Create users/templates/users/login.html"
   ]
  },
  {
   "cell_type": "code",
   "execution_count": null,
   "metadata": {},
   "outputs": [],
   "source": [
    "{% extends \"blog/base.html\" %}\n",
    "{% load crispy_forms_tags %}\n",
    "{% block content %}\n",
    "        <div class=\"content-section\">\n",
    "            <form method=\"POST\">\n",
    "                {% csrf_token %}\n",
    "                <fieldset class=\"form-group\">\n",
    "                    <legend class=\"border-bottom mb-4\">Log In</legend>\n",
    "                    {{ form|crispy }}\n",
    "                </fieldset>\n",
    "                <div class=\"form-group\">\n",
    "                    <button class=\"btn btn-outline-info\" type=\"submit\">Login</button>\n",
    "                </div>\n",
    "            </form>\n",
    "            <div class=\"border-top pt-3\">\n",
    "                <small class=\"text-muted\">\n",
    "                    Need An Account? <a class=\"ml-2\" href=\"{% url 'register' %}\">Sign Up Now</a>\n",
    "                </small>\n",
    "            </div>\n",
    "        </div>\n",
    "{% endblock content %}"
   ]
  },
  {
   "cell_type": "markdown",
   "metadata": {},
   "source": [
    "Create users/templates/users/logout.html"
   ]
  },
  {
   "cell_type": "code",
   "execution_count": null,
   "metadata": {},
   "outputs": [],
   "source": [
    "{% extends \"blog/base.html\" %}\n",
    "{% block content %}\n",
    "<h2>You have been logged out</h2>\n",
    "<div class=\"border-top pt-3\">\n",
    "    <small class=\"text-muted\">\n",
    "        <a href=\"{% url 'login' %}\">Log In Again</a>\n",
    "    </small>\n",
    "</div>\n",
    "\n",
    "{% endblock content %}"
   ]
  },
  {
   "cell_type": "markdown",
   "metadata": {},
   "source": [
    "django_project/settings.py"
   ]
  },
  {
   "cell_type": "markdown",
   "metadata": {},
   "source": [
    "Add the following line to the bottom"
   ]
  },
  {
   "cell_type": "code",
   "execution_count": null,
   "metadata": {},
   "outputs": [],
   "source": [
    "LOGIN_REDIRECT_URL = 'blog-home'"
   ]
  },
  {
   "cell_type": "markdown",
   "metadata": {},
   "source": [
    "users/views.py"
   ]
  },
  {
   "cell_type": "markdown",
   "metadata": {},
   "source": [
    "update the redirect and message"
   ]
  },
  {
   "cell_type": "code",
   "execution_count": null,
   "metadata": {},
   "outputs": [],
   "source": [
    "from django.shortcuts import render, redirect\n",
    "from django.contrib import messages\n",
    "from .forms import UserRegisterForm\n",
    "\n",
    "def register(request):\n",
    "    if request.method == 'POST':\n",
    "        form = UserRegisterForm(request.POST)\n",
    "        if form.is_valid():\n",
    "            form.save()\n",
    "            username = form.cleaned_data.get('username')\n",
    "            messages.success(request, f'Your account has been created. You can now login')\n",
    "            return redirect('login')\n",
    "    else:\n",
    "        form = UserRegisterForm()\n",
    "    return render(request, 'users/register.html', {'form': form})"
   ]
  },
  {
   "cell_type": "markdown",
   "metadata": {},
   "source": [
    "## Change navbar based on whether or not user is logged in/out"
   ]
  },
  {
   "cell_type": "markdown",
   "metadata": {},
   "source": [
    "blog/templates/blog/base.html"
   ]
  },
  {
   "cell_type": "markdown",
   "metadata": {},
   "source": [
    "update navbar with following code"
   ]
  },
  {
   "cell_type": "code",
   "execution_count": null,
   "metadata": {},
   "outputs": [],
   "source": [
    "<div class=\"navbar-nav\">\n",
    "    {% if user.is_authenticated %}\n",
    "        <a class=\"nav-item nav-link\" href=\"{% url 'logout' %}\">Logout</a>\n",
    "    {% else %}\n",
    "        <a class=\"nav-item nav-link\" href=\"{% url 'login' %}\">Login</a>\n",
    "        <a class=\"nav-item nav-link\" href=\"{% url 'register' %}\">Register</a>\n",
    "    {% endif %}\n",
    "</div>"
   ]
  },
  {
   "cell_type": "markdown",
   "metadata": {},
   "source": [
    "## Setup routing so that users can only access certain pages after login"
   ]
  },
  {
   "cell_type": "markdown",
   "metadata": {},
   "source": [
    "users/views.py | Underneath the register template"
   ]
  },
  {
   "cell_type": "code",
   "execution_count": null,
   "metadata": {},
   "outputs": [],
   "source": [
    "def profile(request):\n",
    "    return render(request, 'users/profile.html')"
   ]
  },
  {
   "cell_type": "markdown",
   "metadata": {},
   "source": [
    "create users/templates/users/profile.html"
   ]
  },
  {
   "cell_type": "code",
   "execution_count": null,
   "metadata": {},
   "outputs": [],
   "source": [
    "{% extends \"blog/base.html\" %}\n",
    "{% load crispy_forms_tags %}\n",
    "{% block content %}\n",
    "    <h1>{{ user.username }}</h1>\n",
    "{% endblock content %}"
   ]
  },
  {
   "cell_type": "markdown",
   "metadata": {},
   "source": [
    "Note above that the user does not need to be passed in as context. The user class is built in to Django and represents the current logged in user"
   ]
  },
  {
   "cell_type": "markdown",
   "metadata": {},
   "source": [
    "### Create the route to the profile"
   ]
  },
  {
   "cell_type": "markdown",
   "metadata": {},
   "source": [
    "django_project/urls.py"
   ]
  },
  {
   "cell_type": "code",
   "execution_count": null,
   "metadata": {},
   "outputs": [],
   "source": [
    "urlpatterns = [\n",
    "    path('admin/', admin.site.urls),\n",
    "    path('register/', user_views.register, name='register'),\n",
    "    path('profile/', user_views.profile, name='profile'),\n",
    "    path('login/', auth_views.LoginView.as_view(template_name='users/login.html'), name='login'),\n",
    "    path('logout/', auth_views.LogoutView.as_view(template_name='users/logout.html'), name='logout'),\n",
    "    path('', include('blog.urls')),\n",
    "]"
   ]
  },
  {
   "cell_type": "markdown",
   "metadata": {},
   "source": [
    "### Add profile link next to logout for logged in user"
   ]
  },
  {
   "cell_type": "markdown",
   "metadata": {},
   "source": [
    "blog/templates/blog/base.html"
   ]
  },
  {
   "cell_type": "code",
   "execution_count": null,
   "metadata": {},
   "outputs": [],
   "source": [
    "<div class=\"navbar-nav\">\n",
    "    {% if user.is_authenticated %}\n",
    "        <a class=\"nav-item nav-link\" href=\"{% url 'profile' %}\">Profile</a>\n",
    "        <a class=\"nav-item nav-link\" href=\"{% url 'logout' %}\">Logout</a>\n",
    "    {% else %}\n",
    "        <a class=\"nav-item nav-link\" href=\"{% url 'login' %}\">Login</a>\n",
    "        <a class=\"nav-item nav-link\" href=\"{% url 'register' %}\">Register</a>\n",
    "    {% endif %}\n",
    "</div>"
   ]
  },
  {
   "cell_type": "markdown",
   "metadata": {},
   "source": [
    "### Add login required decorator to prevent logged out users going back to the profile page without being logged in #cybersecurity"
   ]
  },
  {
   "cell_type": "markdown",
   "metadata": {},
   "source": [
    "users/views.py"
   ]
  },
  {
   "cell_type": "code",
   "execution_count": null,
   "metadata": {},
   "outputs": [],
   "source": [
    "from django.contrib.auth.decorators import login_required"
   ]
  },
  {
   "cell_type": "code",
   "execution_count": null,
   "metadata": {},
   "outputs": [],
   "source": [
    "@login_required\n",
    "def profile(request):\n",
    "    return render(request, 'users/profile.html')"
   ]
  },
  {
   "cell_type": "markdown",
   "metadata": {},
   "source": [
    "django_project/settings.py"
   ]
  },
  {
   "cell_type": "code",
   "execution_count": null,
   "metadata": {},
   "outputs": [],
   "source": [
    "LOGIN_URL = \"login\""
   ]
  },
  {
   "cell_type": "code",
   "execution_count": null,
   "metadata": {},
   "outputs": [],
   "source": []
  },
  {
   "cell_type": "code",
   "execution_count": null,
   "metadata": {},
   "outputs": [],
   "source": []
  },
  {
   "cell_type": "code",
   "execution_count": null,
   "metadata": {},
   "outputs": [],
   "source": []
  }
 ],
 "metadata": {
  "kernelspec": {
   "display_name": "Python 3",
   "language": "python",
   "name": "python3"
  },
  "language_info": {
   "codemirror_mode": {
    "name": "ipython",
    "version": 3
   },
   "file_extension": ".py",
   "mimetype": "text/x-python",
   "name": "python",
   "nbconvert_exporter": "python",
   "pygments_lexer": "ipython3",
   "version": "3.7.6"
  }
 },
 "nbformat": 4,
 "nbformat_minor": 4
}
